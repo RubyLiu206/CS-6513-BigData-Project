version https://git-lfs.github.com/spec/v1
oid sha256:592de4c2a8c7ea0cf4865d9df86cb6ac9027b437fe1aa63ffd8760ec2c6fdc9a
size 1062976
